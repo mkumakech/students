{
 "cells": [
  {
   "cell_type": "markdown",
   "id": "038b0b4a",
   "metadata": {},
   "source": [
    "<h2> Boundary Value Analysis - Software Testing technique</h2>"
   ]
  },
  {
   "cell_type": "code",
   "execution_count": 16,
   "id": "035a8580",
   "metadata": {},
   "outputs": [],
   "source": [
    "def factorial(n):\n",
    "    if n < 0:\n",
    "        raise ValueError(\"Factorial is not defined for negative numbers.\")\n",
    "    elif n == 0:\n",
    "        return 1\n",
    "    else:\n",
    "        result = 1\n",
    "        for i in range(1, n + 1):\n",
    "            result *= i\n",
    "        return result"
   ]
  },
  {
   "cell_type": "code",
   "execution_count": 17,
   "id": "cef5875c",
   "metadata": {},
   "outputs": [
    {
     "name": "stdout",
     "output_type": "stream",
     "text": [
      "Factorial of 0 is 1\n"
     ]
    }
   ],
   "source": [
    "# Test case 1: Testing the lower boundary with n = 0\n",
    "result1 = factorial(0)\n",
    "print(f\"Factorial of 0 is {result1}\")  # Output: Factorial of 0 is 1"
   ]
  },
  {
   "cell_type": "code",
   "execution_count": 18,
   "id": "1d6d6d98",
   "metadata": {},
   "outputs": [
    {
     "name": "stdout",
     "output_type": "stream",
     "text": [
      "Factorial of 1 is 1\n"
     ]
    }
   ],
   "source": [
    "# Test case 2: Testing the lower boundary with n = 1\n",
    "result1 = factorial(1)\n",
    "print(f\"Factorial of 1 is {result1}\")  # Output: Factorial of 1 is 1"
   ]
  },
  {
   "cell_type": "code",
   "execution_count": 19,
   "id": "d411b80a",
   "metadata": {},
   "outputs": [
    {
     "name": "stdout",
     "output_type": "stream",
     "text": [
      "Factorial of 5 is 120\n"
     ]
    }
   ],
   "source": [
    "# Test case 3: Testing the lower boundary with n = 5\n",
    "result1 = factorial(5)\n",
    "print(f\"Factorial of 5 is {result1}\")  # Output: Factorial of 5 is 120"
   ]
  },
  {
   "cell_type": "code",
   "execution_count": 20,
   "id": "4068ac10",
   "metadata": {},
   "outputs": [
    {
     "name": "stdout",
     "output_type": "stream",
     "text": [
      "Factorial of 2 is 2\n"
     ]
    }
   ],
   "source": [
    "# Test case 4: Testing the lower boundary with n = 2\n",
    "result1 = factorial(2)\n",
    "print(f\"Factorial of 2 is {result1}\")  # Output: Factorial of 2 is 2"
   ]
  },
  {
   "cell_type": "code",
   "execution_count": 21,
   "id": "9621cb52",
   "metadata": {},
   "outputs": [
    {
     "name": "stdout",
     "output_type": "stream",
     "text": [
      "Factorial of 3 is 6\n"
     ]
    }
   ],
   "source": [
    "# Test case 5: Testing the lower boundary with n = 3\n",
    "result1 = factorial(3)\n",
    "print(f\"Factorial of 3 is {result1}\")  # Output: Factorial of 3 is 6"
   ]
  },
  {
   "cell_type": "markdown",
   "id": "5043aea1",
   "metadata": {},
   "source": [
    "<h2>1. Use Edge Case Testing ( 20 marks)</h2>"
   ]
  },
  {
   "cell_type": "code",
   "execution_count": null,
   "id": "22915ea7",
   "metadata": {},
   "outputs": [],
   "source": []
  },
  {
   "cell_type": "code",
   "execution_count": null,
   "id": "b221cbe9",
   "metadata": {},
   "outputs": [],
   "source": []
  },
  {
   "cell_type": "code",
   "execution_count": null,
   "id": "285d9512",
   "metadata": {},
   "outputs": [],
   "source": []
  }
 ],
 "metadata": {
  "kernelspec": {
   "display_name": "Python 3 (ipykernel)",
   "language": "python",
   "name": "python3"
  },
  "language_info": {
   "codemirror_mode": {
    "name": "ipython",
    "version": 3
   },
   "file_extension": ".py",
   "mimetype": "text/x-python",
   "name": "python",
   "nbconvert_exporter": "python",
   "pygments_lexer": "ipython3",
   "version": "3.9.12"
  }
 },
 "nbformat": 4,
 "nbformat_minor": 5
}
